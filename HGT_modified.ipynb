{
 "cells": [
  {
   "cell_type": "code",
   "execution_count": 1,
   "id": "faa00960",
   "metadata": {},
   "outputs": [],
   "source": [
    "#used packages\n",
    "import torch\n",
    "import json\n",
    "################################1. preparing the utilities functions to process our data\n",
    "#Here we define the utilities function to process our data, i.e. nodes and edges and thier features (attributes)\n",
    "#For representing this data in the PyG data format, we first define a method load_node_csv() that reads \n",
    "#in a *.csv file and returns a node-level feature representation x of shape [num_nodes, num_features]:\n",
    "\n",
    "###############################1.1 function to Load node-realted data\n",
    "#load_node_csv() reads the *.csv file from path, and creates a dictionary mapping that maps its index column \n",
    "#to a consecutive value e.g., the representation of a resource in the first row should be accessible via x[0].\n",
    "\n",
    "def load_node_csv(path, mapping, encoders=None, **kwargs):\n",
    "    x_mapping = {}\n",
    "    df = pd.read_csv(path, index_col=\"resourceid\", **kwargs)\n",
    "    \n",
    "    # Update x_mapping with unique node IDs, excluding \"None\"\n",
    "    for index in df.index.unique():\n",
    "        if index != \"None\":\n",
    "            x_mapping[index] = len(x_mapping)\n",
    "    \n",
    "    # Update mapping dictionary with unique node IDs, excluding \"None\"\n",
    "    unique_ids = df.index.unique()\n",
    "    for node_id in unique_ids:\n",
    "        if node_id != \"None\" and node_id not in mapping:\n",
    "            mapping[node_id] = len(mapping)\n",
    "    \n",
    "    # Create indices tensor\n",
    "    indices = torch.tensor([mapping[node_id] for node_id in unique_ids if node_id != \"None\"])\n",
    "    \n",
    "    x = None\n",
    "    if encoders is not None:\n",
    "        xs = [encoder(df.loc[df.index != \"None\", col]) for col, encoder in encoders.items()]\n",
    "        x = torch.stack(xs, dim=1)\n",
    "\n",
    "    return x, x_mapping\n",
    "\n",
    "################################################2.2 function to Load edge-related data\n",
    "#loading of edges \n",
    "#load_edge_csv() returns the final edge_index representation of shape [2, number_of_each_edges_types] \n",
    "#from *.csv\n",
    "\n",
    "def load_edge_csv(path, src_mapping, dst_mapping, encoders=None, **kwargs):\n",
    "    # Read the CSV file\n",
    "    df = pd.read_csv(path, **kwargs)\n",
    "    # Assuming the first column is the source index column and the second is the destination index column\n",
    "    src_index_col = df.columns[0]\n",
    "    dst_index_col = df.columns[1]\n",
    "    src = []\n",
    "    dst = []\n",
    "    valid_rows = []\n",
    "\n",
    "    # Map source and destination indices using provided mappings, skipping \"None\"\n",
    "    for i, (src_index, dst_index) in enumerate(zip(df[src_index_col], df[dst_index_col])):\n",
    "        if src_index != \"None\" and dst_index != \"None\":\n",
    "            src.append(src_mapping[src_index])\n",
    "            dst.append(dst_mapping[dst_index])\n",
    "            valid_rows.append(i)\n",
    "    \n",
    "    # Create edge_index tensor\n",
    "    edge_index = torch.tensor([src, dst], dtype=torch.long)\n",
    "    edge_attr = None\n",
    "    if encoders is not None:\n",
    "        edge_attrs = [encoder(df.loc[valid_rows, col]) for col, encoder in encoders.items()]\n",
    "        edge_attr = torch.cat(edge_attrs, dim=-1)\n",
    "\n",
    "    return edge_index, edge_attr\n",
    "\n",
    "\n",
    "################################################1.3 function to define an encoder that applies on of NLP model to encode node/edgae related features \n",
    "from sentence_transformers import SentenceTransformer\n",
    "class SequenceEncoder(object):\n",
    "    def __init__(self, model_name='all-MiniLM-L6-v2', device=None):\n",
    "        self.device = device\n",
    "        self.model = SentenceTransformer(model_name, device=device)\n",
    "\n",
    "    @torch.no_grad()\n",
    "    def __call__(self, df):\n",
    "        x = self.model.encode(df.values, show_progress_bar=True,\n",
    "                              convert_to_tensor=True, device=self.device)\n",
    "        return x.cpu()\n",
    "\n",
    "\n",
    "class ProviderEncoder(object):\n",
    "    def __call__(self, df):\n",
    "        tensor_val=torch.tensor(df.values,dtype=torch.float)\n",
    "\n",
    "        return tensor_val.cpu()\n",
    "class TypeEncoder(object):\n",
    "    def __call__(self, df):\n",
    "        tensor_val=torch.tensor(df.values,dtype=torch.float)\n",
    "\n",
    "        return tensor_val.cpu()\n",
    "\n",
    "class LocationEncoder(object):\n",
    "    def __init__(self, dtype=None):\n",
    "        self.dtype = dtype\n",
    "\n",
    "    def __call__(self, df):\n",
    "        tensor_val=torch.tensor(df.values,dtype=torch.float)\n",
    "\n",
    "        return tensor_val.cpu()\n",
    "\n",
    "def load_labels(path):\n",
    "##load the labels of services\n",
    "      with open(path) as f:\n",
    "        labels = json.load(f)\n",
    "      return labels \n",
    "########################2) Load the data from the given dataset using the defined utilities functions\n",
    "\n",
    "#steps:\n",
    "#A) load graphs from CSV files \n",
    "from torch_geometric.data import download_url, extract_zip\n",
    "import pandas as pd\n",
    "from torch_geometric.data import HeteroData\n",
    "from torch_geometric.loader import DataLoader\n",
    "import os\n",
    "def load_data(dir_path,labels,service_label,mapping):\n",
    "\n",
    "  providers = os.listdir(dir_path)\n",
    "  data_set = []\n",
    "  graph_i=0\n",
    "  for provider in providers:\n",
    "          services=os.listdir(dir_path+'/'+provider)\n",
    "          for service in services:\n",
    "                     service_files=os.listdir(dir_path+'/'+provider+'/'+service)\n",
    "                     path=dir_path+'/'+provider+'/'+service+'/'\n",
    "                     resource_path = path+'nodes.csv'\n",
    "                     #1) load nodes\n",
    "                     resource_x,mapping_x = load_node_csv(\n",
    "                     resource_path, mapping, encoders={\n",
    "                      'type': TypeEncoder(), \n",
    "                      'provider':ProviderEncoder()\n",
    "                       \n",
    "                       })\n",
    "                      #initialize our HeteroData object and pass the node type into it\n",
    "                     data= HeteroData()\n",
    "                     data['resource'].x = resource_x\n",
    "                                #2 load edges\n",
    "                     for file in service_files:\n",
    "                            if ('.csv' in file) and (file!='nodes.csv'):\n",
    "                                    edge_path=path+file\n",
    "                                    edge_index_relationship, edge_label_relationship= load_edge_csv(\n",
    "                                    edge_path,\n",
    "                                    src_mapping=mapping_x,\n",
    "                                    dst_mapping=mapping_x,\n",
    "                                    encoders=None,)  \n",
    "                                    relation_name=file.replace('.csv', '')\n",
    "                                    if edge_index_relationship.size(1)!=0:\n",
    "                                        data['resource', relation_name, 'resource'].edge_index =  edge_index_relationship\n",
    "                     data.y=torch.tensor(int(labels[provider+'_'+service_label]), dtype=torch.long) \n",
    "                     data_set.append(data)\n",
    "\n",
    "                     graph_i+=1\n",
    "\n",
    "\n",
    "  return data_set"
   ]
  },
  {
   "cell_type": "code",
   "execution_count": 4,
   "id": "ba2c3470",
   "metadata": {},
   "outputs": [
    {
     "name": "stdout",
     "output_type": "stream",
     "text": [
      "{'aws_NIC': '0', 'azure_NIC': '1', 'aws_L2Connectivity': '2', 'azure_L2Connectivity': '3', 'aws_L2endpoint': '4', 'azure_L2endpoint': '5', 'aws_L2bridging': '6', 'azure_L2bridging': '7', 'aws_L3routing': '8', 'azure_L3routing': '9', 'aws_peering': '10', 'azure_peering': '11'}\n"
     ]
    }
   ],
   "source": [
    "#Generate training data\n",
    "import random\n",
    "import os\n",
    "##Put here the path of dataset\n",
    "current_folder = 'C:/env/'\n",
    "mapping={}\n",
    "label_path = os.path.join(current_folder, 'Heterogeneous_Graph_Learning/dataset/service_labels.json')\n",
    "labels=load_labels(label_path)\n",
    "#dir_path=r'Heterogeneous_Graph_Learning/dataset/services/'\n",
    "dir_path=os.path.join(current_folder,'Heterogeneous_Graph_Learning/dataset/services/')\n",
    "\n",
    "#will generate dataset for each service so that we can organize the finale dataset into training and testing in a fair way\n",
    "L2B_graphs_path =dir_path+'L2bridging'\n",
    "L2C_graphs_path =dir_path+'L2Connectivity'\n",
    "L2E_graphs_path =dir_path+'L2endpoint'\n",
    "L3R_graphs_path =dir_path+'L3routing'\n",
    "NIC_graphs_path =dir_path+'NIC'\n",
    "#Peering_graphs_path =dir_path+'peering_services' (Removed for now)\n",
    "\n",
    "L2B_services=load_data(L2B_graphs_path,labels,'L2bridging',mapping)#\n",
    "L2C_services=load_data(L2C_graphs_path,labels,'L2Connectivity',mapping)#\n",
    "L2E_services=load_data(L2E_graphs_path,labels,'L2endpoint',mapping)#\n",
    "L3R_services=load_data(L3R_graphs_path,labels,'L3routing',mapping)#\n",
    "NIC_services=load_data(NIC_graphs_path,labels,'NIC',mapping)#\n",
    "#Peering_services=load_data(Peering_graphs_path,labels)# (Removed for now)\n",
    "\n",
    "\n",
    "\n",
    "\n",
    "\n",
    "\n"
   ]
  },
  {
   "cell_type": "code",
   "execution_count": 4,
   "id": "ae5ef1fd",
   "metadata": {},
   "outputs": [
    {
     "name": "stdout",
     "output_type": "stream",
     "text": [
      "320\n",
      "320\n",
      "320\n",
      "81\n",
      "320\n",
      "1060\n",
      "301\n",
      "HeteroData(\n",
      "  y=7,\n",
      "  \u001b[1mresource\u001b[0m={ x=[4, 2] },\n",
      "  \u001b[1m(resource, exposes_resource_Subnet, resource)\u001b[0m={ edge_index=[2, 1] },\n",
      "  \u001b[1m(resource, Hosted_On_L2Domain, resource)\u001b[0m={ edge_index=[2, 1] },\n",
      "  \u001b[1m(resource, Is_Owned_By, resource)\u001b[0m={ edge_index=[2, 1] }\n",
      ")\n",
      "HeteroData(\n",
      "  y=9,\n",
      "  \u001b[1mresource\u001b[0m={ x=[8, 2] },\n",
      "  \u001b[1m(resource, exposes_resource_L3Address, resource)\u001b[0m={ edge_index=[2, 1] },\n",
      "  \u001b[1m(resource, exposes_resource_L3SimpleRoute, resource)\u001b[0m={ edge_index=[2, 2] },\n",
      "  \u001b[1m(resource, exposes_resource_Subnet, resource)\u001b[0m={ edge_index=[2, 1] },\n",
      "  \u001b[1m(resource, Hosted_On_L3Domain, resource)\u001b[0m={ edge_index=[2, 3] }\n",
      ")\n"
     ]
    }
   ],
   "source": [
    "#shuffling datac\n",
    "random.shuffle(L2B_services)\n",
    "random.shuffle(L2C_services)\n",
    "random.shuffle(L2E_services)\n",
    "random.shuffle(L3R_services)\n",
    "random.shuffle(NIC_services)\n",
    "#training\n",
    "training_data_set=L2B_services[:250]+L2C_services[:250]+L2E_services[:250]+L3R_services[:60]+NIC_services[:250]\n",
    "#+Peering_services[:300]\n",
    "random.shuffle(training_data_set)\n",
    "#testing \n",
    "\n",
    "testing_data_set=L2B_services[250:]+L2C_services[250:]+L2E_services[250:]+L3R_services[60:]+NIC_services[250:]\n",
    "#Peering_services[300:]\n",
    "random.shuffle(testing_data_set)\n"
   ]
  },
  {
   "cell_type": "code",
   "execution_count": 6,
   "id": "19457494",
   "metadata": {},
   "outputs": [
    {
     "name": "stdout",
     "output_type": "stream",
     "text": [
      "1060\n",
      "301\n"
     ]
    }
   ],
   "source": [
    "##3 Add all data into data-loader for preparing the trainning and testing \n",
    "training_loader = DataLoader(training_data_set, batch_size=16)\n",
    "Testing_loader = DataLoader(testing_data_set, batch_size=16)\n"
   ]
  },
  {
   "cell_type": "code",
   "execution_count": 7,
   "id": "f9498e6e",
   "metadata": {},
   "outputs": [],
   "source": [
    "# Hyperparameters\n",
    "hidden_channels = 256\n",
    "num_heads = 4\n",
    "num_layers = 2\n",
    "dropout_rate = 0.5\n",
    "learning_rate = 1e-3\n",
    "weight_decay = 1e-4\n",
    "out_channels = 10  # Number of output classes\n",
    "\n",
    "\n"
   ]
  },
  {
   "cell_type": "code",
   "execution_count": 8,
   "id": "a3013d23",
   "metadata": {},
   "outputs": [],
   "source": [
    "import torch\n",
    "import torch.nn.functional as F\n",
    "from torch_geometric.nn import HGTConv, Linear\n",
    "import torch.optim as optim  # Ensure this line is included\n",
    "\n",
    "class DynamicHGT(torch.nn.Module):\n",
    "    def __init__(self, hidden_channels, out_channels, num_heads, num_layers):\n",
    "        super().__init__()\n",
    "        self.hidden_channels = hidden_channels\n",
    "        self.num_heads = num_heads\n",
    "        self.num_layers = num_layers\n",
    "\n",
    "        # Define the Linear layers for the node and graph types\n",
    "        self.lin = Linear(-1, hidden_channels)\n",
    "        self.out_lin = Linear(hidden_channels, out_channels)\n",
    "        self.lin1 = Linear(hidden_channels, hidden_channels)  # Add this line to define lin1\n",
    "\n",
    "    def forward(self, x_dict, edge_index_dict, batch):\n",
    "        # Apply Linear transformation to node features\n",
    "        x_dict['resource'] = self.lin(x_dict['resource']).relu_()\n",
    "\n",
    "        # Create HGTConv layers dynamically based on metadata\n",
    "        conv_layers = torch.nn.ModuleList()\n",
    "        for _ in range(self.num_layers):\n",
    "            conv = HGTConv(self.hidden_channels, self.hidden_channels, batch.metadata(),\n",
    "                           self.num_heads, group='sum')\n",
    "            conv_layers.append(conv)\n",
    "\n",
    "        # Apply HGTConv layers\n",
    "        for conv in conv_layers:\n",
    "            x_dict = conv(x_dict, edge_index_dict)\n",
    "\n",
    "        # Node embeddings\n",
    "        node_embeddings = x_dict['resource']\n",
    "\n",
    "        # Compute graph embeddings\n",
    "        num_nodes = torch.bincount(batch['resource'].batch)\n",
    "        start_idx = 0\n",
    "        graph_embeddings = []\n",
    "\n",
    "        for num in num_nodes:\n",
    "            graph_embeddings.append(node_embeddings[start_idx:start_idx + num].mean(dim=0))\n",
    "            start_idx += num\n",
    "\n",
    "        graph_embeddings = torch.stack(graph_embeddings)\n",
    "\n",
    "        # Apply the additional linear layer\n",
    "        graph_embeddings = self.lin1(graph_embeddings)\n",
    "        graph_embeddings = F.relu(graph_embeddings)  # Optional activation\n",
    "\n",
    "        # Final output layer\n",
    "        return self.out_lin(graph_embeddings)\n"
   ]
  },
  {
   "cell_type": "code",
   "execution_count": 9,
   "id": "1cab9839",
   "metadata": {},
   "outputs": [],
   "source": [
    "model = DynamicHGT(hidden_channels, out_channels, num_heads, num_layers)\n",
    "optimizer = optim.Adam(model.parameters(), lr=0.01)\n",
    "criterion = torch.nn.CrossEntropyLoss()  # Adjust if needed"
   ]
  },
  {
   "cell_type": "code",
   "execution_count": 10,
   "id": "7c8884fb",
   "metadata": {},
   "outputs": [],
   "source": [
    "from sklearn.metrics import accuracy_score, precision_score, recall_score, f1_score\n",
    "import numpy as np\n",
    "import torch\n",
    "import torch.nn.functional as F\n",
    "from torch_geometric.data import DataLoader, HeteroData\n",
    "from tqdm import tqdm\n",
    "def train(loader):\n",
    "    model.train()\n",
    "    total_loss = 0\n",
    "    all_preds = []\n",
    "    all_labels = []\n",
    "    embeddings= []\n",
    "    for batch in tqdm(loader):\n",
    "        optimizer.zero_grad()\n",
    "        batch = batch.to('cpu')\n",
    "        # Forward pass\n",
    "        graph_embeddings = model(batch.x_dict, batch.edge_index_dict, batch)\n",
    "        # Collecting all graph-level labels\n",
    "        targets = batch.y\n",
    "\n",
    "        # Calculate loss\n",
    "        loss = F.cross_entropy(graph_embeddings, targets)\n",
    "        loss.backward()\n",
    "        optimizer.step()\n",
    "        \n",
    "        # Collect predictions and labels\n",
    "        _, predicted = graph_embeddings.max(dim=1)\n",
    "        all_preds.extend(predicted.cpu().numpy())\n",
    "        all_labels.extend(targets.cpu().numpy())\n",
    "        \n",
    "        total_loss += loss.item()\n",
    "\n",
    "    # Convert lists to numpy arrays for metrics calculation\n",
    "    all_preds = np.array(all_preds)\n",
    "    all_labels = np.array(all_labels)\n",
    "\n",
    "    # Compute metrics\n",
    "    accuracy = accuracy_score(all_labels, all_preds)\n",
    "    precision = precision_score(all_labels, all_preds, average='weighted')\n",
    "    recall = recall_score(all_labels, all_preds, average='weighted')\n",
    "    f1 = f1_score(all_labels, all_preds, average='weighted')\n",
    "    \n",
    "    avg_loss = total_loss / len(loader)\n",
    "    return avg_loss, accuracy, precision, recall, f1\n",
    "\n",
    "\n",
    "\n",
    "\n",
    "\n",
    "\n"
   ]
  },
  {
   "cell_type": "code",
   "execution_count": 11,
   "id": "8c75fc06",
   "metadata": {},
   "outputs": [],
   "source": [
    "def test(test_loader):\n",
    "    model.eval()  # Set the model to evaluation mode\n",
    "    total_loss = 0\n",
    "    all_preds = []\n",
    "    all_labels = []\n",
    "    embeddings=[]\n",
    "    with torch.no_grad():  # Disable gradient calculations\n",
    "        for batch in tqdm(test_loader):\n",
    "            batch = batch.to('cpu')\n",
    "            \n",
    "            # Forward pass\n",
    "            graph_embeddings = model(batch.x_dict, batch.edge_index_dict, batch)\n",
    "            targets = batch.y\n",
    "            \n",
    "            # Calculate loss\n",
    "            loss = F.cross_entropy(graph_embeddings, targets)\n",
    "            total_loss += loss.item()\n",
    "            \n",
    "            # Collect predictions and labels\n",
    "            _, predicted = graph_embeddings.max(dim=1)\n",
    "            all_preds.extend(predicted.cpu().numpy())\n",
    "            all_labels.extend(targets.cpu().numpy())\n",
    "            embeddings.extend(graph_embeddings)\n",
    "    # Convert lists to numpy arrays for metrics calculation\n",
    "    all_preds = np.array(all_preds)\n",
    "    all_labels = np.array(all_labels)\n",
    "\n",
    "    # Compute metrics\n",
    "    accuracy = accuracy_score(all_labels, all_preds)\n",
    "    precision = precision_score(all_labels, all_preds, average='weighted')\n",
    "    recall = recall_score(all_labels, all_preds, average='weighted')\n",
    "    f1 = f1_score(all_labels, all_preds, average='weighted')\n",
    "    \n",
    "    avg_loss = total_loss / len(test_loader)\n",
    "    return avg_loss, accuracy,embeddings,all_labels, precision, recall, f1\n"
   ]
  },
  {
   "cell_type": "code",
   "execution_count": 41,
   "id": "ba59019a",
   "metadata": {},
   "outputs": [],
   "source": [
    "graph= torch.load('C:\\\\env\\\\Heterogeneous_Graph_Learning\\\\GNN-Model\\\\Augmented.pt')\n"
   ]
  },
  {
   "cell_type": "code",
   "execution_count": 43,
   "id": "3fdbbfe6",
   "metadata": {},
   "outputs": [],
   "source": [
    "data=training_data_set+graph+testing_data_set"
   ]
  },
  {
   "cell_type": "code",
   "execution_count": 47,
   "id": "969c0d47",
   "metadata": {},
   "outputs": [
    {
     "name": "stdout",
     "output_type": "stream",
     "text": [
      "1521\n",
      "653\n"
     ]
    }
   ],
   "source": [
    "train_size=int(0.7*len(data))\n",
    "augmented_training_set=data[:train_size]\n",
    "augmented_testing_set=data[train_size:]"
   ]
  },
  {
   "cell_type": "code",
   "execution_count": 57,
   "id": "d283665b",
   "metadata": {},
   "outputs": [
    {
     "name": "stdout",
     "output_type": "stream",
     "text": [
      "41\n",
      "96\n"
     ]
    }
   ],
   "source": [
    "random.shuffle(data)\n",
    "from torch_geometric.loader import DataLoader\n",
    "augmented_testing_loader = DataLoader(augmented_testing_set, batch_size=16, shuffle=True)\n",
    "augmented_training_loader = DataLoader(augmented_training_set, batch_size=16, shuffle=True)\n",
    "\n"
   ]
  },
  {
   "cell_type": "code",
   "execution_count": 61,
   "id": "d18eee7e",
   "metadata": {},
   "outputs": [
    {
     "name": "stderr",
     "output_type": "stream",
     "text": [
      "100%|██████████████████████████████████████████████████████████████████████████████████| 67/67 [00:03<00:00, 18.26it/s]\n"
     ]
    },
    {
     "name": "stdout",
     "output_type": "stream",
     "text": [
      "Epoch 1 - Train Loss: 0.2754, Accuracy: 0.8830, Precision: 0.8847, Recall: 0.8830, F1 Score: 0.8835\n"
     ]
    },
    {
     "name": "stderr",
     "output_type": "stream",
     "text": [
      "100%|██████████████████████████████████████████████████████████████████████████████████| 67/67 [00:03<00:00, 17.07it/s]\n"
     ]
    },
    {
     "name": "stdout",
     "output_type": "stream",
     "text": [
      "Epoch 2 - Train Loss: 0.2517, Accuracy: 0.8925, Precision: 0.8932, Recall: 0.8925, F1 Score: 0.8925\n"
     ]
    },
    {
     "name": "stderr",
     "output_type": "stream",
     "text": [
      "100%|██████████████████████████████████████████████████████████████████████████████████| 67/67 [00:04<00:00, 16.45it/s]\n"
     ]
    },
    {
     "name": "stdout",
     "output_type": "stream",
     "text": [
      "Epoch 3 - Train Loss: 0.2008, Accuracy: 0.9302, Precision: 0.9309, Recall: 0.9302, F1 Score: 0.9301\n"
     ]
    },
    {
     "name": "stderr",
     "output_type": "stream",
     "text": [
      "100%|██████████████████████████████████████████████████████████████████████████████████| 67/67 [00:03<00:00, 17.06it/s]\n"
     ]
    },
    {
     "name": "stdout",
     "output_type": "stream",
     "text": [
      "Epoch 4 - Train Loss: 0.2373, Accuracy: 0.8981, Precision: 0.8983, Recall: 0.8981, F1 Score: 0.8976\n"
     ]
    },
    {
     "name": "stderr",
     "output_type": "stream",
     "text": [
      "100%|██████████████████████████████████████████████████████████████████████████████████| 67/67 [00:03<00:00, 16.77it/s]\n"
     ]
    },
    {
     "name": "stdout",
     "output_type": "stream",
     "text": [
      "Epoch 5 - Train Loss: 0.2493, Accuracy: 0.8981, Precision: 0.8986, Recall: 0.8981, F1 Score: 0.8982\n"
     ]
    },
    {
     "name": "stderr",
     "output_type": "stream",
     "text": [
      "100%|██████████████████████████████████████████████████████████████████████████████████| 67/67 [00:02<00:00, 31.15it/s]\n"
     ]
    },
    {
     "name": "stdout",
     "output_type": "stream",
     "text": [
      "Epoch 1 - Train Loss: 0.1614, Accuracy: 0.9340, Precision: 0.9356, Recall: 0.9340, F1 Score: 0.9338\n"
     ]
    },
    {
     "name": "stderr",
     "output_type": "stream",
     "text": [
      "100%|██████████████████████████████████████████████████████████████████████████████████| 19/19 [00:00<00:00, 30.80it/s]\n"
     ]
    },
    {
     "name": "stdout",
     "output_type": "stream",
     "text": [
      "Epoch 1 - Test Loss: 0.1442, Accuracy: 0.9535, Precision: 0.9560, Recall: 0.9535, F1 Score: 0.9533\n"
     ]
    },
    {
     "name": "stderr",
     "output_type": "stream",
     "text": [
      "100%|██████████████████████████████████████████████████████████████████████████████████| 67/67 [00:02<00:00, 30.85it/s]\n"
     ]
    },
    {
     "name": "stdout",
     "output_type": "stream",
     "text": [
      "Epoch 2 - Train Loss: 0.1858, Accuracy: 0.9245, Precision: 0.9327, Recall: 0.9245, F1 Score: 0.9240\n"
     ]
    },
    {
     "name": "stderr",
     "output_type": "stream",
     "text": [
      "100%|██████████████████████████████████████████████████████████████████████████████████| 19/19 [00:00<00:00, 32.26it/s]\n"
     ]
    },
    {
     "name": "stdout",
     "output_type": "stream",
     "text": [
      "Epoch 2 - Test Loss: 0.1555, Accuracy: 0.9468, Precision: 0.9506, Recall: 0.9468, F1 Score: 0.9466\n"
     ]
    },
    {
     "name": "stderr",
     "output_type": "stream",
     "text": [
      "100%|██████████████████████████████████████████████████████████████████████████████████| 67/67 [00:02<00:00, 30.29it/s]\n"
     ]
    },
    {
     "name": "stdout",
     "output_type": "stream",
     "text": [
      "Epoch 3 - Train Loss: 0.1665, Accuracy: 0.9302, Precision: 0.9381, Recall: 0.9302, F1 Score: 0.9291\n"
     ]
    },
    {
     "name": "stderr",
     "output_type": "stream",
     "text": [
      "100%|██████████████████████████████████████████████████████████████████████████████████| 19/19 [00:00<00:00, 32.17it/s]\n"
     ]
    },
    {
     "name": "stdout",
     "output_type": "stream",
     "text": [
      "Epoch 3 - Test Loss: 0.1552, Accuracy: 0.9468, Precision: 0.9512, Recall: 0.9468, F1 Score: 0.9460\n"
     ]
    },
    {
     "name": "stderr",
     "output_type": "stream",
     "text": [
      "100%|██████████████████████████████████████████████████████████████████████████████████| 67/67 [00:02<00:00, 29.00it/s]\n"
     ]
    },
    {
     "name": "stdout",
     "output_type": "stream",
     "text": [
      "Epoch 4 - Train Loss: 0.1548, Accuracy: 0.9406, Precision: 0.9468, Recall: 0.9406, F1 Score: 0.9401\n"
     ]
    },
    {
     "name": "stderr",
     "output_type": "stream",
     "text": [
      "100%|██████████████████████████████████████████████████████████████████████████████████| 19/19 [00:00<00:00, 29.65it/s]\n"
     ]
    },
    {
     "name": "stdout",
     "output_type": "stream",
     "text": [
      "Epoch 4 - Test Loss: 0.1449, Accuracy: 0.9468, Precision: 0.9512, Recall: 0.9468, F1 Score: 0.9466\n"
     ]
    },
    {
     "name": "stderr",
     "output_type": "stream",
     "text": [
      "100%|██████████████████████████████████████████████████████████████████████████████████| 67/67 [00:02<00:00, 28.74it/s]\n"
     ]
    },
    {
     "name": "stdout",
     "output_type": "stream",
     "text": [
      "Epoch 5 - Train Loss: 0.1679, Accuracy: 0.9396, Precision: 0.9453, Recall: 0.9396, F1 Score: 0.9392\n"
     ]
    },
    {
     "name": "stderr",
     "output_type": "stream",
     "text": [
      "100%|██████████████████████████████████████████████████████████████████████████████████| 19/19 [00:00<00:00, 26.83it/s]"
     ]
    },
    {
     "name": "stdout",
     "output_type": "stream",
     "text": [
      "Epoch 5 - Test Loss: 0.1507, Accuracy: 0.9535, Precision: 0.9566, Recall: 0.9535, F1 Score: 0.9535\n"
     ]
    },
    {
     "name": "stderr",
     "output_type": "stream",
     "text": [
      "\n"
     ]
    }
   ],
   "source": [
    "for epoch in range(5):\n",
    "    train_loss, train_accuracy, train_precision, train_recall, train_f1 = train(training_loader)\n",
    "    print(f\"Epoch {epoch+1} - Train Loss: {train_loss:.4f}, Accuracy: {train_accuracy:.4f}, Precision: {train_precision:.4f}, Recall: {train_recall:.4f}, F1 Score: {train_f1:.4f}\")\n",
    "for epoch in range(5):\n",
    "    train_loss, train_accuracy,train_embeddings,train_labels, train_precision, train_recall, train_f1 = test(training_loader)\n",
    "    print(f\"Epoch {epoch+1} - Train Loss: {train_loss:.4f}, Accuracy: {train_accuracy:.4f}, Precision: {train_precision:.4f}, Recall: {train_recall:.4f}, F1 Score: {train_f1:.4f}\")\n",
    "    test_loss,test_accuracy,test_embeddings,test_labels, test_precision, test_recall, test_f1 = test(Testing_loader)\n",
    "    print(f\"Epoch {epoch+1} - Test Loss: {test_loss:.4f}, Accuracy: {test_accuracy:.4f}, Precision: {test_precision:.4f}, Recall: {test_recall:.4f}, F1 Score: {test_f1:.4f}\")\n"
   ]
  },
  {
   "cell_type": "code",
   "execution_count": 70,
   "id": "ed2aa1ee",
   "metadata": {},
   "outputs": [
    {
     "name": "stderr",
     "output_type": "stream",
     "text": [
      "100%|██████████████████████████████████████████████████████████████████████████████████| 41/41 [00:01<00:00, 31.48it/s]\n"
     ]
    },
    {
     "name": "stdout",
     "output_type": "stream",
     "text": [
      "Epoch 1 - Train Loss: 1.6509, Accuracy: 0.5636, Precision: 0.5716, Recall: 0.5636, F1 Score: 0.5644\n"
     ]
    },
    {
     "name": "stderr",
     "output_type": "stream",
     "text": [
      "100%|██████████████████████████████████████████████████████████████████████████████████| 41/41 [00:01<00:00, 29.25it/s]\n"
     ]
    },
    {
     "name": "stdout",
     "output_type": "stream",
     "text": [
      "Epoch 2 - Train Loss: 1.2935, Accuracy: 0.6110, Precision: 0.6084, Recall: 0.6110, F1 Score: 0.6062\n"
     ]
    },
    {
     "name": "stderr",
     "output_type": "stream",
     "text": [
      "100%|██████████████████████████████████████████████████████████████████████████████████| 41/41 [00:01<00:00, 29.22it/s]\n"
     ]
    },
    {
     "name": "stdout",
     "output_type": "stream",
     "text": [
      "Epoch 3 - Train Loss: 1.2770, Accuracy: 0.5865, Precision: 0.5922, Recall: 0.5865, F1 Score: 0.5838\n"
     ]
    },
    {
     "name": "stderr",
     "output_type": "stream",
     "text": [
      "100%|██████████████████████████████████████████████████████████████████████████████████| 41/41 [00:01<00:00, 27.13it/s]\n"
     ]
    },
    {
     "name": "stdout",
     "output_type": "stream",
     "text": [
      "Epoch 4 - Train Loss: 1.3211, Accuracy: 0.6110, Precision: 0.6198, Recall: 0.6110, F1 Score: 0.6048\n"
     ]
    },
    {
     "name": "stderr",
     "output_type": "stream",
     "text": [
      "100%|██████████████████████████████████████████████████████████████████████████████████| 41/41 [00:01<00:00, 29.57it/s]\n"
     ]
    },
    {
     "name": "stdout",
     "output_type": "stream",
     "text": [
      "Epoch 5 - Train Loss: 1.1779, Accuracy: 0.5896, Precision: 0.5925, Recall: 0.5896, F1 Score: 0.5854\n"
     ]
    },
    {
     "name": "stderr",
     "output_type": "stream",
     "text": [
      "100%|██████████████████████████████████████████████████████████████████████████████████| 41/41 [00:01<00:00, 30.53it/s]\n"
     ]
    },
    {
     "name": "stdout",
     "output_type": "stream",
     "text": [
      "Epoch 6 - Train Loss: 1.2161, Accuracy: 0.5896, Precision: 0.5948, Recall: 0.5896, F1 Score: 0.5831\n"
     ]
    },
    {
     "name": "stderr",
     "output_type": "stream",
     "text": [
      "100%|██████████████████████████████████████████████████████████████████████████████████| 41/41 [00:01<00:00, 28.84it/s]\n"
     ]
    },
    {
     "name": "stdout",
     "output_type": "stream",
     "text": [
      "Epoch 7 - Train Loss: 1.2298, Accuracy: 0.5881, Precision: 0.5993, Recall: 0.5881, F1 Score: 0.5860\n"
     ]
    },
    {
     "name": "stderr",
     "output_type": "stream",
     "text": [
      "100%|██████████████████████████████████████████████████████████████████████████████████| 41/41 [00:01<00:00, 30.31it/s]\n"
     ]
    },
    {
     "name": "stdout",
     "output_type": "stream",
     "text": [
      "Epoch 8 - Train Loss: 1.1487, Accuracy: 0.6126, Precision: 0.6186, Recall: 0.6126, F1 Score: 0.6068\n"
     ]
    },
    {
     "name": "stderr",
     "output_type": "stream",
     "text": [
      "100%|██████████████████████████████████████████████████████████████████████████████████| 41/41 [00:01<00:00, 28.24it/s]\n"
     ]
    },
    {
     "name": "stdout",
     "output_type": "stream",
     "text": [
      "Epoch 9 - Train Loss: 1.2328, Accuracy: 0.5804, Precision: 0.5832, Recall: 0.5804, F1 Score: 0.5767\n"
     ]
    },
    {
     "name": "stderr",
     "output_type": "stream",
     "text": [
      "100%|██████████████████████████████████████████████████████████████████████████████████| 41/41 [00:01<00:00, 29.08it/s]\n"
     ]
    },
    {
     "name": "stdout",
     "output_type": "stream",
     "text": [
      "Epoch 10 - Train Loss: 1.1273, Accuracy: 0.6003, Precision: 0.6044, Recall: 0.6003, F1 Score: 0.5977\n"
     ]
    },
    {
     "name": "stderr",
     "output_type": "stream",
     "text": [
      "100%|██████████████████████████████████████████████████████████████████████████████████| 41/41 [00:01<00:00, 29.42it/s]\n"
     ]
    },
    {
     "name": "stdout",
     "output_type": "stream",
     "text": [
      "Epoch 11 - Train Loss: 1.1449, Accuracy: 0.6095, Precision: 0.6303, Recall: 0.6095, F1 Score: 0.6099\n"
     ]
    },
    {
     "name": "stderr",
     "output_type": "stream",
     "text": [
      "100%|██████████████████████████████████████████████████████████████████████████████████| 41/41 [00:01<00:00, 28.04it/s]\n"
     ]
    },
    {
     "name": "stdout",
     "output_type": "stream",
     "text": [
      "Epoch 12 - Train Loss: 1.1244, Accuracy: 0.6110, Precision: 0.6135, Recall: 0.6110, F1 Score: 0.6070\n"
     ]
    },
    {
     "name": "stderr",
     "output_type": "stream",
     "text": [
      "100%|██████████████████████████████████████████████████████████████████████████████████| 41/41 [00:01<00:00, 28.45it/s]\n"
     ]
    },
    {
     "name": "stdout",
     "output_type": "stream",
     "text": [
      "Epoch 13 - Train Loss: 1.0557, Accuracy: 0.6263, Precision: 0.6398, Recall: 0.6263, F1 Score: 0.6250\n"
     ]
    },
    {
     "name": "stderr",
     "output_type": "stream",
     "text": [
      "100%|██████████████████████████████████████████████████████████████████████████████████| 41/41 [00:01<00:00, 27.02it/s]\n"
     ]
    },
    {
     "name": "stdout",
     "output_type": "stream",
     "text": [
      "Epoch 14 - Train Loss: 1.0858, Accuracy: 0.6539, Precision: 0.6583, Recall: 0.6539, F1 Score: 0.6512\n"
     ]
    },
    {
     "name": "stderr",
     "output_type": "stream",
     "text": [
      "100%|██████████████████████████████████████████████████████████████████████████████████| 41/41 [00:01<00:00, 26.16it/s]\n"
     ]
    },
    {
     "name": "stdout",
     "output_type": "stream",
     "text": [
      "Epoch 15 - Train Loss: 1.0900, Accuracy: 0.6386, Precision: 0.6447, Recall: 0.6386, F1 Score: 0.6373\n"
     ]
    },
    {
     "name": "stderr",
     "output_type": "stream",
     "text": [
      "100%|██████████████████████████████████████████████████████████████████████████████████| 41/41 [00:01<00:00, 26.73it/s]\n"
     ]
    },
    {
     "name": "stdout",
     "output_type": "stream",
     "text": [
      "Epoch 16 - Train Loss: 1.1284, Accuracy: 0.6187, Precision: 0.6261, Recall: 0.6187, F1 Score: 0.6159\n"
     ]
    },
    {
     "name": "stderr",
     "output_type": "stream",
     "text": [
      "100%|██████████████████████████████████████████████████████████████████████████████████| 41/41 [00:01<00:00, 26.89it/s]\n"
     ]
    },
    {
     "name": "stdout",
     "output_type": "stream",
     "text": [
      "Epoch 17 - Train Loss: 1.0666, Accuracy: 0.6294, Precision: 0.6319, Recall: 0.6294, F1 Score: 0.6263\n"
     ]
    },
    {
     "name": "stderr",
     "output_type": "stream",
     "text": [
      "100%|██████████████████████████████████████████████████████████████████████████████████| 41/41 [00:01<00:00, 27.85it/s]\n"
     ]
    },
    {
     "name": "stdout",
     "output_type": "stream",
     "text": [
      "Epoch 18 - Train Loss: 1.1415, Accuracy: 0.6263, Precision: 0.6330, Recall: 0.6263, F1 Score: 0.6238\n"
     ]
    },
    {
     "name": "stderr",
     "output_type": "stream",
     "text": [
      "100%|██████████████████████████████████████████████████████████████████████████████████| 41/41 [00:01<00:00, 27.78it/s]\n"
     ]
    },
    {
     "name": "stdout",
     "output_type": "stream",
     "text": [
      "Epoch 19 - Train Loss: 1.0896, Accuracy: 0.6141, Precision: 0.6200, Recall: 0.6141, F1 Score: 0.6112\n"
     ]
    },
    {
     "name": "stderr",
     "output_type": "stream",
     "text": [
      "100%|██████████████████████████████████████████████████████████████████████████████████| 41/41 [00:01<00:00, 26.60it/s]"
     ]
    },
    {
     "name": "stdout",
     "output_type": "stream",
     "text": [
      "Epoch 20 - Train Loss: 1.0868, Accuracy: 0.6263, Precision: 0.6321, Recall: 0.6263, F1 Score: 0.6224\n"
     ]
    },
    {
     "name": "stderr",
     "output_type": "stream",
     "text": [
      "\n"
     ]
    }
   ],
   "source": [
    "for epoch in range(20):\n",
    "    train_loss, train_accuracy, train_precision, train_recall, train_f1 = train(augmented_training_loader)\n",
    "    print(f\"Epoch {epoch+1} - Train Loss: {train_loss:.4f}, Accuracy: {train_accuracy:.4f}, Precision: {train_precision:.4f}, Recall: {train_recall:.4f}, F1 Score: {train_f1:.4f}\")"
   ]
  },
  {
   "cell_type": "code",
   "execution_count": 80,
   "id": "67485d93",
   "metadata": {},
   "outputs": [
    {
     "name": "stderr",
     "output_type": "stream",
     "text": [
      "100%|██████████████████████████████████████████████████████████████████████████████████| 96/96 [00:02<00:00, 38.19it/s]\n"
     ]
    },
    {
     "name": "stdout",
     "output_type": "stream",
     "text": [
      "Epoch 1 - Train Loss: 1.4029, Accuracy: 0.6844, Precision: 0.7396, Recall: 0.6844, F1 Score: 0.6794\n"
     ]
    },
    {
     "name": "stderr",
     "output_type": "stream",
     "text": [
      "100%|██████████████████████████████████████████████████████████████████████████████████| 41/41 [00:00<00:00, 50.32it/s]\n"
     ]
    },
    {
     "name": "stdout",
     "output_type": "stream",
     "text": [
      "Epoch 1 - Test Loss: 2.0551, Accuracy: 0.5299, Precision: 0.6161, Recall: 0.5299, F1 Score: 0.5294\n"
     ]
    },
    {
     "name": "stderr",
     "output_type": "stream",
     "text": [
      "100%|██████████████████████████████████████████████████████████████████████████████████| 96/96 [00:02<00:00, 40.73it/s]\n"
     ]
    },
    {
     "name": "stdout",
     "output_type": "stream",
     "text": [
      "Epoch 2 - Train Loss: 1.5435, Accuracy: 0.6726, Precision: 0.7318, Recall: 0.6726, F1 Score: 0.6623\n"
     ]
    },
    {
     "name": "stderr",
     "output_type": "stream",
     "text": [
      "100%|██████████████████████████████████████████████████████████████████████████████████| 41/41 [00:00<00:00, 45.53it/s]\n"
     ]
    },
    {
     "name": "stdout",
     "output_type": "stream",
     "text": [
      "Epoch 2 - Test Loss: 1.9224, Accuracy: 0.5406, Precision: 0.6367, Recall: 0.5406, F1 Score: 0.5375\n"
     ]
    },
    {
     "name": "stderr",
     "output_type": "stream",
     "text": [
      "100%|██████████████████████████████████████████████████████████████████████████████████| 96/96 [00:02<00:00, 40.65it/s]\n"
     ]
    },
    {
     "name": "stdout",
     "output_type": "stream",
     "text": [
      "Epoch 3 - Train Loss: 1.3837, Accuracy: 0.6778, Precision: 0.7390, Recall: 0.6778, F1 Score: 0.6680\n"
     ]
    },
    {
     "name": "stderr",
     "output_type": "stream",
     "text": [
      "100%|██████████████████████████████████████████████████████████████████████████████████| 41/41 [00:00<00:00, 42.94it/s]\n"
     ]
    },
    {
     "name": "stdout",
     "output_type": "stream",
     "text": [
      "Epoch 3 - Test Loss: 2.1153, Accuracy: 0.5100, Precision: 0.5866, Recall: 0.5100, F1 Score: 0.4948\n"
     ]
    },
    {
     "name": "stderr",
     "output_type": "stream",
     "text": [
      "100%|██████████████████████████████████████████████████████████████████████████████████| 96/96 [00:02<00:00, 39.65it/s]\n"
     ]
    },
    {
     "name": "stdout",
     "output_type": "stream",
     "text": [
      "Epoch 4 - Train Loss: 1.4408, Accuracy: 0.6778, Precision: 0.7357, Recall: 0.6778, F1 Score: 0.6731\n"
     ]
    },
    {
     "name": "stderr",
     "output_type": "stream",
     "text": [
      "100%|██████████████████████████████████████████████████████████████████████████████████| 41/41 [00:00<00:00, 44.04it/s]\n"
     ]
    },
    {
     "name": "stdout",
     "output_type": "stream",
     "text": [
      "Epoch 4 - Test Loss: 2.0515, Accuracy: 0.5299, Precision: 0.6161, Recall: 0.5299, F1 Score: 0.5187\n"
     ]
    },
    {
     "name": "stderr",
     "output_type": "stream",
     "text": [
      "100%|██████████████████████████████████████████████████████████████████████████████████| 96/96 [00:02<00:00, 39.79it/s]\n"
     ]
    },
    {
     "name": "stdout",
     "output_type": "stream",
     "text": [
      "Epoch 5 - Train Loss: 1.4115, Accuracy: 0.6627, Precision: 0.7144, Recall: 0.6627, F1 Score: 0.6499\n"
     ]
    },
    {
     "name": "stderr",
     "output_type": "stream",
     "text": [
      "100%|██████████████████████████████████████████████████████████████████████████████████| 41/41 [00:00<00:00, 44.44it/s]\n"
     ]
    },
    {
     "name": "stdout",
     "output_type": "stream",
     "text": [
      "Epoch 5 - Test Loss: 2.0558, Accuracy: 0.5283, Precision: 0.6076, Recall: 0.5283, F1 Score: 0.5221\n"
     ]
    },
    {
     "name": "stderr",
     "output_type": "stream",
     "text": [
      "100%|██████████████████████████████████████████████████████████████████████████████████| 96/96 [00:02<00:00, 40.12it/s]\n"
     ]
    },
    {
     "name": "stdout",
     "output_type": "stream",
     "text": [
      "Epoch 6 - Train Loss: 1.4223, Accuracy: 0.6561, Precision: 0.7163, Recall: 0.6561, F1 Score: 0.6465\n"
     ]
    },
    {
     "name": "stderr",
     "output_type": "stream",
     "text": [
      "100%|██████████████████████████████████████████████████████████████████████████████████| 41/41 [00:00<00:00, 46.06it/s]\n"
     ]
    },
    {
     "name": "stdout",
     "output_type": "stream",
     "text": [
      "Epoch 6 - Test Loss: 2.0345, Accuracy: 0.5222, Precision: 0.6152, Recall: 0.5222, F1 Score: 0.5155\n"
     ]
    },
    {
     "name": "stderr",
     "output_type": "stream",
     "text": [
      "100%|██████████████████████████████████████████████████████████████████████████████████| 96/96 [00:02<00:00, 38.77it/s]\n"
     ]
    },
    {
     "name": "stdout",
     "output_type": "stream",
     "text": [
      "Epoch 7 - Train Loss: 1.3882, Accuracy: 0.6765, Precision: 0.7322, Recall: 0.6765, F1 Score: 0.6677\n"
     ]
    },
    {
     "name": "stderr",
     "output_type": "stream",
     "text": [
      "100%|██████████████████████████████████████████████████████████████████████████████████| 41/41 [00:00<00:00, 43.49it/s]\n"
     ]
    },
    {
     "name": "stdout",
     "output_type": "stream",
     "text": [
      "Epoch 7 - Test Loss: 1.9589, Accuracy: 0.5559, Precision: 0.6513, Recall: 0.5559, F1 Score: 0.5561\n"
     ]
    },
    {
     "name": "stderr",
     "output_type": "stream",
     "text": [
      "100%|██████████████████████████████████████████████████████████████████████████████████| 96/96 [00:02<00:00, 35.20it/s]\n"
     ]
    },
    {
     "name": "stdout",
     "output_type": "stream",
     "text": [
      "Epoch 8 - Train Loss: 1.4616, Accuracy: 0.6719, Precision: 0.7259, Recall: 0.6719, F1 Score: 0.6580\n"
     ]
    },
    {
     "name": "stderr",
     "output_type": "stream",
     "text": [
      "100%|██████████████████████████████████████████████████████████████████████████████████| 41/41 [00:00<00:00, 45.76it/s]\n"
     ]
    },
    {
     "name": "stdout",
     "output_type": "stream",
     "text": [
      "Epoch 8 - Test Loss: 2.0216, Accuracy: 0.5329, Precision: 0.6150, Recall: 0.5329, F1 Score: 0.5263\n"
     ]
    },
    {
     "name": "stderr",
     "output_type": "stream",
     "text": [
      "100%|██████████████████████████████████████████████████████████████████████████████████| 96/96 [00:02<00:00, 39.31it/s]\n"
     ]
    },
    {
     "name": "stdout",
     "output_type": "stream",
     "text": [
      "Epoch 9 - Train Loss: 1.4061, Accuracy: 0.6805, Precision: 0.7382, Recall: 0.6805, F1 Score: 0.6698\n"
     ]
    },
    {
     "name": "stderr",
     "output_type": "stream",
     "text": [
      "100%|██████████████████████████████████████████████████████████████████████████████████| 41/41 [00:00<00:00, 50.21it/s]\n"
     ]
    },
    {
     "name": "stdout",
     "output_type": "stream",
     "text": [
      "Epoch 9 - Test Loss: 2.1220, Accuracy: 0.5299, Precision: 0.6186, Recall: 0.5299, F1 Score: 0.5259\n"
     ]
    },
    {
     "name": "stderr",
     "output_type": "stream",
     "text": [
      "100%|██████████████████████████████████████████████████████████████████████████████████| 96/96 [00:02<00:00, 38.04it/s]\n"
     ]
    },
    {
     "name": "stdout",
     "output_type": "stream",
     "text": [
      "Epoch 10 - Train Loss: 1.4322, Accuracy: 0.6640, Precision: 0.7269, Recall: 0.6640, F1 Score: 0.6526\n"
     ]
    },
    {
     "name": "stderr",
     "output_type": "stream",
     "text": [
      "100%|██████████████████████████████████████████████████████████████████████████████████| 41/41 [00:00<00:00, 48.70it/s]\n"
     ]
    },
    {
     "name": "stdout",
     "output_type": "stream",
     "text": [
      "Epoch 10 - Test Loss: 2.0619, Accuracy: 0.5360, Precision: 0.6128, Recall: 0.5360, F1 Score: 0.5277\n"
     ]
    },
    {
     "name": "stderr",
     "output_type": "stream",
     "text": [
      "100%|██████████████████████████████████████████████████████████████████████████████████| 96/96 [00:02<00:00, 42.16it/s]\n"
     ]
    },
    {
     "name": "stdout",
     "output_type": "stream",
     "text": [
      "Epoch 11 - Train Loss: 1.4723, Accuracy: 0.6660, Precision: 0.7199, Recall: 0.6660, F1 Score: 0.6537\n"
     ]
    },
    {
     "name": "stderr",
     "output_type": "stream",
     "text": [
      "100%|██████████████████████████████████████████████████████████████████████████████████| 41/41 [00:00<00:00, 51.99it/s]\n"
     ]
    },
    {
     "name": "stdout",
     "output_type": "stream",
     "text": [
      "Epoch 11 - Test Loss: 2.0679, Accuracy: 0.5268, Precision: 0.6289, Recall: 0.5268, F1 Score: 0.5172\n"
     ]
    },
    {
     "name": "stderr",
     "output_type": "stream",
     "text": [
      "100%|██████████████████████████████████████████████████████████████████████████████████| 96/96 [00:02<00:00, 41.46it/s]\n"
     ]
    },
    {
     "name": "stdout",
     "output_type": "stream",
     "text": [
      "Epoch 12 - Train Loss: 1.3689, Accuracy: 0.6831, Precision: 0.7334, Recall: 0.6831, F1 Score: 0.6745\n"
     ]
    },
    {
     "name": "stderr",
     "output_type": "stream",
     "text": [
      "100%|██████████████████████████████████████████████████████████████████████████████████| 41/41 [00:00<00:00, 50.51it/s]\n"
     ]
    },
    {
     "name": "stdout",
     "output_type": "stream",
     "text": [
      "Epoch 12 - Test Loss: 2.1228, Accuracy: 0.5360, Precision: 0.6108, Recall: 0.5360, F1 Score: 0.5300\n"
     ]
    },
    {
     "name": "stderr",
     "output_type": "stream",
     "text": [
      "100%|██████████████████████████████████████████████████████████████████████████████████| 96/96 [00:02<00:00, 44.27it/s]\n"
     ]
    },
    {
     "name": "stdout",
     "output_type": "stream",
     "text": [
      "Epoch 13 - Train Loss: 1.4356, Accuracy: 0.6713, Precision: 0.7231, Recall: 0.6713, F1 Score: 0.6632\n"
     ]
    },
    {
     "name": "stderr",
     "output_type": "stream",
     "text": [
      "100%|██████████████████████████████████████████████████████████████████████████████████| 41/41 [00:00<00:00, 52.31it/s]\n"
     ]
    },
    {
     "name": "stdout",
     "output_type": "stream",
     "text": [
      "Epoch 13 - Test Loss: 2.0336, Accuracy: 0.5329, Precision: 0.6226, Recall: 0.5329, F1 Score: 0.5260\n"
     ]
    },
    {
     "name": "stderr",
     "output_type": "stream",
     "text": [
      "100%|██████████████████████████████████████████████████████████████████████████████████| 96/96 [00:02<00:00, 44.36it/s]\n"
     ]
    },
    {
     "name": "stdout",
     "output_type": "stream",
     "text": [
      "Epoch 14 - Train Loss: 1.3440, Accuracy: 0.6851, Precision: 0.7421, Recall: 0.6851, F1 Score: 0.6822\n"
     ]
    },
    {
     "name": "stderr",
     "output_type": "stream",
     "text": [
      "100%|██████████████████████████████████████████████████████████████████████████████████| 41/41 [00:00<00:00, 57.43it/s]\n"
     ]
    },
    {
     "name": "stdout",
     "output_type": "stream",
     "text": [
      "Epoch 14 - Test Loss: 2.0578, Accuracy: 0.5375, Precision: 0.6132, Recall: 0.5375, F1 Score: 0.5318\n"
     ]
    },
    {
     "name": "stderr",
     "output_type": "stream",
     "text": [
      "100%|██████████████████████████████████████████████████████████████████████████████████| 96/96 [00:02<00:00, 40.15it/s]\n"
     ]
    },
    {
     "name": "stdout",
     "output_type": "stream",
     "text": [
      "Epoch 15 - Train Loss: 1.4109, Accuracy: 0.6581, Precision: 0.7091, Recall: 0.6581, F1 Score: 0.6438\n"
     ]
    },
    {
     "name": "stderr",
     "output_type": "stream",
     "text": [
      "100%|██████████████████████████████████████████████████████████████████████████████████| 41/41 [00:00<00:00, 47.57it/s]\n"
     ]
    },
    {
     "name": "stdout",
     "output_type": "stream",
     "text": [
      "Epoch 15 - Test Loss: 2.1260, Accuracy: 0.5268, Precision: 0.6168, Recall: 0.5268, F1 Score: 0.5198\n"
     ]
    },
    {
     "name": "stderr",
     "output_type": "stream",
     "text": [
      "100%|██████████████████████████████████████████████████████████████████████████████████| 96/96 [00:02<00:00, 39.17it/s]\n"
     ]
    },
    {
     "name": "stdout",
     "output_type": "stream",
     "text": [
      "Epoch 16 - Train Loss: 1.4299, Accuracy: 0.6627, Precision: 0.7333, Recall: 0.6627, F1 Score: 0.6503\n"
     ]
    },
    {
     "name": "stderr",
     "output_type": "stream",
     "text": [
      "100%|██████████████████████████████████████████████████████████████████████████████████| 41/41 [00:00<00:00, 46.74it/s]\n"
     ]
    },
    {
     "name": "stdout",
     "output_type": "stream",
     "text": [
      "Epoch 16 - Test Loss: 2.0663, Accuracy: 0.5391, Precision: 0.6143, Recall: 0.5391, F1 Score: 0.5305\n"
     ]
    },
    {
     "name": "stderr",
     "output_type": "stream",
     "text": [
      "100%|██████████████████████████████████████████████████████████████████████████████████| 96/96 [00:02<00:00, 42.44it/s]\n"
     ]
    },
    {
     "name": "stdout",
     "output_type": "stream",
     "text": [
      "Epoch 17 - Train Loss: 1.4028, Accuracy: 0.6594, Precision: 0.7126, Recall: 0.6594, F1 Score: 0.6448\n"
     ]
    },
    {
     "name": "stderr",
     "output_type": "stream",
     "text": [
      "100%|██████████████████████████████████████████████████████████████████████████████████| 41/41 [00:00<00:00, 53.46it/s]\n"
     ]
    },
    {
     "name": "stdout",
     "output_type": "stream",
     "text": [
      "Epoch 17 - Test Loss: 2.0515, Accuracy: 0.5391, Precision: 0.6282, Recall: 0.5391, F1 Score: 0.5324\n"
     ]
    },
    {
     "name": "stderr",
     "output_type": "stream",
     "text": [
      "100%|██████████████████████████████████████████████████████████████████████████████████| 96/96 [00:02<00:00, 42.30it/s]\n"
     ]
    },
    {
     "name": "stdout",
     "output_type": "stream",
     "text": [
      "Epoch 18 - Train Loss: 1.4625, Accuracy: 0.6719, Precision: 0.7349, Recall: 0.6719, F1 Score: 0.6599\n"
     ]
    },
    {
     "name": "stderr",
     "output_type": "stream",
     "text": [
      "100%|██████████████████████████████████████████████████████████████████████████████████| 41/41 [00:00<00:00, 46.61it/s]\n"
     ]
    },
    {
     "name": "stdout",
     "output_type": "stream",
     "text": [
      "Epoch 18 - Test Loss: 1.9746, Accuracy: 0.5513, Precision: 0.6339, Recall: 0.5513, F1 Score: 0.5479\n"
     ]
    },
    {
     "name": "stderr",
     "output_type": "stream",
     "text": [
      "100%|██████████████████████████████████████████████████████████████████████████████████| 96/96 [00:02<00:00, 40.56it/s]\n"
     ]
    },
    {
     "name": "stdout",
     "output_type": "stream",
     "text": [
      "Epoch 19 - Train Loss: 1.4042, Accuracy: 0.6739, Precision: 0.7361, Recall: 0.6739, F1 Score: 0.6656\n"
     ]
    },
    {
     "name": "stderr",
     "output_type": "stream",
     "text": [
      "100%|██████████████████████████████████████████████████████████████████████████████████| 41/41 [00:00<00:00, 45.55it/s]\n"
     ]
    },
    {
     "name": "stdout",
     "output_type": "stream",
     "text": [
      "Epoch 19 - Test Loss: 2.1968, Accuracy: 0.5191, Precision: 0.5893, Recall: 0.5191, F1 Score: 0.5090\n"
     ]
    },
    {
     "name": "stderr",
     "output_type": "stream",
     "text": [
      "100%|██████████████████████████████████████████████████████████████████████████████████| 96/96 [00:02<00:00, 42.98it/s]\n"
     ]
    },
    {
     "name": "stdout",
     "output_type": "stream",
     "text": [
      "Epoch 20 - Train Loss: 1.4531, Accuracy: 0.6732, Precision: 0.7333, Recall: 0.6732, F1 Score: 0.6625\n"
     ]
    },
    {
     "name": "stderr",
     "output_type": "stream",
     "text": [
      "100%|██████████████████████████████████████████████████████████████████████████████████| 41/41 [00:00<00:00, 46.12it/s]"
     ]
    },
    {
     "name": "stdout",
     "output_type": "stream",
     "text": [
      "Epoch 20 - Test Loss: 1.9959, Accuracy: 0.5406, Precision: 0.6215, Recall: 0.5406, F1 Score: 0.5376\n"
     ]
    },
    {
     "name": "stderr",
     "output_type": "stream",
     "text": [
      "\n"
     ]
    }
   ],
   "source": [
    "\n",
    "for epoch in range(20):\n",
    "    train_loss, train_accuracy,train_embeddings,train_labels, train_precision, train_recall, train_f1 = test(augmented_training_loader)\n",
    "    print(f\"Epoch {epoch+1} - Train Loss: {train_loss:.4f}, Accuracy: {train_accuracy:.4f}, Precision: {train_precision:.4f}, Recall: {train_recall:.4f}, F1 Score: {train_f1:.4f}\")\n",
    "    test_loss,test_accuracy,test_embeddings,test_labels, test_precision, test_recall, test_f1 = test(augmented_testing_loader)\n",
    "    print(f\"Epoch {epoch+1} - Test Loss: {test_loss:.4f}, Accuracy: {test_accuracy:.4f}, Precision: {test_precision:.4f}, Recall: {test_recall:.4f}, F1 Score: {test_f1:.4f}\")\n"
   ]
  },
  {
   "cell_type": "code",
   "execution_count": 3,
   "id": "a54834d5",
   "metadata": {},
   "outputs": [
    {
     "name": "stdout",
     "output_type": "stream",
     "text": [
      "######################################train out embeddings#######\n",
      "######################################test out embeddings#######\n",
      "###############################train embeddings#############################\n",
      "###############################test embeddings#############################\n"
     ]
    },
    {
     "ename": "NameError",
     "evalue": "name 'train_embeddings' is not defined",
     "output_type": "error",
     "traceback": [
      "\u001b[1;31m---------------------------------------------------------------------------\u001b[0m",
      "\u001b[1;31mNameError\u001b[0m                                 Traceback (most recent call last)",
      "\u001b[1;32m~\\AppData\\Local\\Temp\\ipykernel_20640\\834218719.py\u001b[0m in \u001b[0;36m<module>\u001b[1;34m\u001b[0m\n\u001b[0;32m     12\u001b[0m \u001b[0mprint\u001b[0m\u001b[1;33m(\u001b[0m\u001b[1;34m'###############################test embeddings#############################'\u001b[0m\u001b[1;33m)\u001b[0m\u001b[1;33m\u001b[0m\u001b[1;33m\u001b[0m\u001b[0m\n\u001b[0;32m     13\u001b[0m \u001b[1;31m#print(test_embeddings)\u001b[0m\u001b[1;33m\u001b[0m\u001b[1;33m\u001b[0m\u001b[1;33m\u001b[0m\u001b[0m\n\u001b[1;32m---> 14\u001b[1;33m \u001b[0mtensor_train_embeddings\u001b[0m \u001b[1;33m=\u001b[0m  \u001b[1;33m[\u001b[0m\u001b[0mtorch\u001b[0m\u001b[1;33m.\u001b[0m\u001b[0mtensor\u001b[0m\u001b[1;33m(\u001b[0m\u001b[0melement\u001b[0m\u001b[1;33m)\u001b[0m \u001b[1;32mfor\u001b[0m \u001b[0melement\u001b[0m \u001b[1;32min\u001b[0m \u001b[0mtrain_embeddings\u001b[0m\u001b[1;33m]\u001b[0m\u001b[1;33m\u001b[0m\u001b[1;33m\u001b[0m\u001b[0m\n\u001b[0m\u001b[0;32m     15\u001b[0m \u001b[0mtensor_test_embeddings\u001b[0m \u001b[1;33m=\u001b[0m  \u001b[1;33m[\u001b[0m\u001b[0mtorch\u001b[0m\u001b[1;33m.\u001b[0m\u001b[0mtensor\u001b[0m\u001b[1;33m(\u001b[0m\u001b[0melement\u001b[0m\u001b[1;33m)\u001b[0m \u001b[1;32mfor\u001b[0m \u001b[0melement\u001b[0m \u001b[1;32min\u001b[0m \u001b[0mtest_embeddings\u001b[0m\u001b[1;33m]\u001b[0m\u001b[1;33m\u001b[0m\u001b[1;33m\u001b[0m\u001b[0m\n\u001b[0;32m     16\u001b[0m \u001b[1;33m\u001b[0m\u001b[0m\n",
      "\u001b[1;31mNameError\u001b[0m: name 'train_embeddings' is not defined"
     ]
    }
   ],
   "source": [
    "print('######################################train out embeddings#######')\n",
    "#print(train_data_outs_embeddings)\n",
    "\n",
    "print('######################################test out embeddings#######')\n",
    "#print(test_data_outs_embeddings)\n",
    "\n",
    "\n",
    "print('###############################train embeddings#############################')\n",
    "#print(train_embeddings)\n",
    "\n",
    "\n",
    "print('###############################test embeddings#############################')\n",
    "#print(test_embeddings)\n",
    "tensor_train_embeddings =  [torch.tensor(element) for element in train_embeddings]\n",
    "tensor_test_embeddings =  [torch.tensor(element) for element in test_embeddings]\n",
    "\n",
    "tensor_train_data_outs_embedding=torch.tensor(train_labels)\n",
    "tensor_test_data_outs_embedding=torch.tensor(test_labels)\n",
    "print(len(tensor_train_embeddings))\n",
    "print(len(tensor_test_embeddings))\n",
    "print(len(tensor_train_data_outs_embedding))\n",
    "print(len(tensor_test_data_outs_embedding))\n"
   ]
  },
  {
   "cell_type": "code",
   "execution_count": 75,
   "id": "a590d473",
   "metadata": {},
   "outputs": [],
   "source": [
    "import matplotlib.pyplot as plt\n",
    "import torch\n",
    "import numpy as np\n",
    "from sklearn.manifold import TSNE\n",
    "import matplotlib.colors as mcolors\n",
    "\n",
    "def visualize_embedding(h, color, epoch=None, loss=None):\n",
    "    \"\"\"\n",
    "    Visualizes embeddings with a scatter plot and includes a legend.\n",
    "    \n",
    "    Args:\n",
    "        h (list of tensors): List of tensor embeddings to visualize.\n",
    "        color (list): List of colors corresponding to the data points.\n",
    "        epoch (int, optional): Epoch number for the plot title.\n",
    "        loss (float, optional): Loss value for the plot title.\n",
    "    \"\"\"\n",
    "    # Convert tensor to numpy array\n",
    "    h = torch.stack(h).detach().cpu().numpy()\n",
    "\n",
    "    # Create a figure\n",
    "    plt.figure(figsize=(10, 10))\n",
    "    plt.xticks([])\n",
    "    plt.yticks([])\n",
    "\n",
    "    # Scatter plot with darker colors\n",
    "    scatter = plt.scatter(h[:, 0], h[:, 1], s=140, c=color, cmap=\"Dark2\", alpha=0.8)\n",
    "\n",
    "    # Create a legend\n",
    "    unique_labels = np.unique(color)\n",
    "    colormap = plt.cm.get_cmap(\"Dark2\", len(unique_labels))\n",
    "    handles = [plt.Line2D([0], [0], marker='o', color='w', markerfacecolor=colormap(i / len(unique_labels)), markersize=10) for i in range(len(unique_labels))]\n",
    "    plt.legend(handles, [f'Label {label}' for label in unique_labels], title=\"Labels\", fontsize=12, title_fontsize='13', bbox_to_anchor=(1.05, 1), loc='upper left')\n",
    "\n",
    "    # Add epoch and loss information if provided\n",
    "    if epoch is not None and loss is not None:\n",
    "        plt.xlabel(f'Epoch: {epoch}, Loss: {loss.item():.4f}', fontsize=16)\n",
    "\n",
    "    plt.show()\n",
    "\n",
    "def visualize(h, color):\n",
    "    \"\"\"\n",
    "    Visualizes embeddings with TSNE and adds a color legend.\n",
    "    \n",
    "    Args:\n",
    "        h (list of tensors): List of tensor embeddings to visualize.\n",
    "        color (list): List of colors corresponding to the data points.\n",
    "    \"\"\"\n",
    "    # Convert tensor to numpy array and apply TSNE\n",
    "    h = torch.stack(h).detach().cpu().numpy()\n",
    "    z = TSNE(n_components=2).fit_transform(h)\n",
    "\n",
    "    # Create a figure\n",
    "    plt.figure(figsize=(10, 10))\n",
    "    plt.xticks([])\n",
    "    plt.yticks([])\n",
    "\n",
    "    # Scatter plot with darker colors\n",
    "    scatter = plt.scatter(z[:, 0], z[:, 1], s=70, c=color, cmap=\"Dark2\", alpha=0.8)\n",
    "\n",
    "    # Create a legend\n",
    "    unique_labels = np.unique(color)\n",
    "    colormap = plt.cm.get_cmap(\"Dark2\", len(unique_labels))\n",
    "    handles = [plt.Line2D([0], [0], marker='o', color='w', markerfacecolor=colormap(i / len(unique_labels)), markersize=10) for i in range(len(unique_labels))]\n",
    "    plt.legend(handles, [f'Label {label}' for label in unique_labels], title=\"Labels\", fontsize=12, title_fontsize='13', bbox_to_anchor=(1.05, 1), loc='upper left')\n",
    "\n",
    "    plt.show()\n",
    "\n",
    "\n"
   ]
  },
  {
   "cell_type": "code",
   "execution_count": 76,
   "id": "3fecad9a",
   "metadata": {},
   "outputs": [
    {
     "name": "stdout",
     "output_type": "stream",
     "text": [
      "Embedding shape: 1521\n",
      "[6 0 0 ... 4 6 7]\n",
      "(1521,)\n",
      "Unique labels: [0 1 2 3 4 5 6 7 8 9]\n"
     ]
    },
    {
     "name": "stderr",
     "output_type": "stream",
     "text": [
      "c:\\env\\lib\\site-packages\\sklearn\\manifold\\_t_sne.py:783: FutureWarning: The default initialization in TSNE will change from 'random' to 'pca' in 1.2.\n",
      "  FutureWarning,\n",
      "c:\\env\\lib\\site-packages\\sklearn\\manifold\\_t_sne.py:793: FutureWarning: The default learning rate in TSNE will change from 200.0 to 'auto' in 1.2.\n",
      "  FutureWarning,\n"
     ]
    },
    {
     "data": {
      "image/png": "[encoded data removed]",
      "text/plain": [
       "<Figure size 1000x1000 with 1 Axes>"
      ]
     },
     "metadata": {},
     "output_type": "display_data"
    }
   ],
   "source": [
    "# Example usage\n",
    "print(f'Embedding shape: {len(train_embeddings)}')\n",
    "color = np.array(train_labels)\n",
    "print(color)\n",
    "print(color.shape)\n",
    "unique_colors = np.unique(color)\n",
    "print(f'Unique labels: {unique_colors}')\n",
    "\n",
    "visualize(train_embeddings, color)"
   ]
  },
  {
   "cell_type": "code",
   "execution_count": 77,
   "id": "5ff11494",
   "metadata": {},
   "outputs": [
    {
     "name": "stderr",
     "output_type": "stream",
     "text": [
      "c:\\env\\lib\\site-packages\\sklearn\\manifold\\_t_sne.py:783: FutureWarning: The default initialization in TSNE will change from 'random' to 'pca' in 1.2.\n",
      "  FutureWarning,\n",
      "c:\\env\\lib\\site-packages\\sklearn\\manifold\\_t_sne.py:793: FutureWarning: The default learning rate in TSNE will change from 200.0 to 'auto' in 1.2.\n",
      "  FutureWarning,\n",
      "c:\\env\\lib\\site-packages\\sklearn\\manifold\\_t_sne.py:783: FutureWarning: The default initialization in TSNE will change from 'random' to 'pca' in 1.2.\n",
      "  FutureWarning,\n",
      "c:\\env\\lib\\site-packages\\sklearn\\manifold\\_t_sne.py:793: FutureWarning: The default learning rate in TSNE will change from 200.0 to 'auto' in 1.2.\n",
      "  FutureWarning,\n"
     ]
    },
    {
     "data": {
      "image/png": "[encoded data removed]",
      "text/plain": [
       "<Figure size 1200x600 with 4 Axes>"
      ]
     },
     "metadata": {},
     "output_type": "display_data"
    }
   ],
   "source": [
    "from sklearn.manifold import TSNE\n",
    "import matplotlib.pyplot as plt\n",
    "import torch\n",
    "import numpy as np\n",
    "\n",
    "# Convert tensors to numpy arrays\n",
    "h = torch.stack(tensor_train_embeddings).detach().cpu().numpy()\n",
    "h1 = torch.stack(tensor_test_embeddings).detach().cpu().numpy()\n",
    "color = np.array(train_labels)\n",
    "color1 = np.array(test_labels)\n",
    "\n",
    "# Apply TSNE for dimensionality reduction\n",
    "tsne = TSNE(n_components=2, random_state=42)  # Set random_state for reproducibility\n",
    "z = tsne.fit_transform(h)\n",
    "y = tsne.fit_transform(h1)\n",
    "\n",
    "# Define color maps and labels\n",
    "unique_labels_train = np.unique(color)\n",
    "unique_labels_test = np.unique(color1)\n",
    "\n",
    "# Create a color map that can handle more unique labels\n",
    "colormap_train = plt.cm.get_cmap('tab20', len(unique_labels_train))\n",
    "colormap_test = plt.cm.get_cmap('tab20', len(unique_labels_test))\n",
    "\n",
    "# Create subplots\n",
    "plt.figure(figsize=(12, 6))\n",
    "\n",
    "# Plot the training data\n",
    "plt.subplot(1, 2, 1)\n",
    "scatter_train = plt.scatter(z[:, 0], z[:, 1], c=color, cmap=colormap_train, marker='o')\n",
    "plt.title('Training Data')\n",
    "cbar = plt.colorbar(scatter_train, ticks=np.arange(len(unique_labels_train)))\n",
    "cbar.set_label('Labels')\n",
    "cbar.set_ticks(np.arange(len(unique_labels_train)))\n",
    "cbar.set_ticklabels([str(label) for label in unique_labels_train])\n",
    "\n",
    "# Plot the test data\n",
    "plt.subplot(1, 2, 2)\n",
    "scatter_test = plt.scatter(y[:, 0], y[:, 1], c=color1, cmap=colormap_test, marker='o')\n",
    "plt.title('Test Data')\n",
    "cbar = plt.colorbar(scatter_test, ticks=np.arange(len(unique_labels_test)))\n",
    "cbar.set_label('Labels')\n",
    "cbar.set_ticks(np.arange(len(unique_labels_test)))\n",
    "cbar.set_ticklabels([str(label) for label in unique_labels_test])\n",
    "\n",
    "plt.show()\n"
   ]
  },
  {
   "cell_type": "code",
   "execution_count": 78,
   "id": "c7c625ed",
   "metadata": {},
   "outputs": [
    {
     "name": "stderr",
     "output_type": "stream",
     "text": [
      "100%|██████████████████████████████████████████████████████████████████████████████████| 67/67 [00:03<00:00, 19.84it/s]\n"
     ]
    },
    {
     "name": "stdout",
     "output_type": "stream",
     "text": [
      "Epoch 1 - Train Loss: 0.2322, Accuracy: 0.9217, Precision: 0.9225, Recall: 0.9217, F1 Score: 0.9216\n"
     ]
    },
    {
     "name": "stderr",
     "output_type": "stream",
     "text": [
      "100%|██████████████████████████████████████████████████████████████████████████████████| 67/67 [00:03<00:00, 19.10it/s]\n"
     ]
    },
    {
     "name": "stdout",
     "output_type": "stream",
     "text": [
      "Epoch 2 - Train Loss: 0.1919, Accuracy: 0.9123, Precision: 0.9122, Recall: 0.9123, F1 Score: 0.9120\n"
     ]
    },
    {
     "name": "stderr",
     "output_type": "stream",
     "text": [
      "100%|██████████████████████████████████████████████████████████████████████████████████| 67/67 [00:03<00:00, 18.19it/s]\n"
     ]
    },
    {
     "name": "stdout",
     "output_type": "stream",
     "text": [
      "Epoch 3 - Train Loss: 0.1646, Accuracy: 0.9415, Precision: 0.9415, Recall: 0.9415, F1 Score: 0.9414\n"
     ]
    },
    {
     "name": "stderr",
     "output_type": "stream",
     "text": [
      "100%|██████████████████████████████████████████████████████████████████████████████████| 67/67 [00:03<00:00, 18.99it/s]\n"
     ]
    },
    {
     "name": "stdout",
     "output_type": "stream",
     "text": [
      "Epoch 4 - Train Loss: 0.1642, Accuracy: 0.9330, Precision: 0.9335, Recall: 0.9330, F1 Score: 0.9331\n"
     ]
    },
    {
     "name": "stderr",
     "output_type": "stream",
     "text": [
      "100%|██████████████████████████████████████████████████████████████████████████████████| 67/67 [00:03<00:00, 19.17it/s]\n"
     ]
    },
    {
     "name": "stdout",
     "output_type": "stream",
     "text": [
      "Epoch 5 - Train Loss: 0.1867, Accuracy: 0.9292, Precision: 0.9298, Recall: 0.9292, F1 Score: 0.9294\n"
     ]
    },
    {
     "name": "stderr",
     "output_type": "stream",
     "text": [
      "100%|██████████████████████████████████████████████████████████████████████████████████| 67/67 [00:02<00:00, 31.97it/s]\n",
      "100%|██████████████████████████████████████████████████████████████████████████████████| 19/19 [00:00<00:00, 34.68it/s]\n"
     ]
    },
    {
     "name": "stdout",
     "output_type": "stream",
     "text": [
      "Epoch 1 - Test Loss: 0.2457, Accuracy: 0.8837, Precision: 0.9162, Recall: 0.8837, F1 Score: 0.8712\n"
     ]
    },
    {
     "name": "stderr",
     "output_type": "stream",
     "text": [
      "100%|██████████████████████████████████████████████████████████████████████████████████| 67/67 [00:02<00:00, 29.68it/s]\n",
      "100%|██████████████████████████████████████████████████████████████████████████████████| 19/19 [00:00<00:00, 32.01it/s]\n"
     ]
    },
    {
     "name": "stdout",
     "output_type": "stream",
     "text": [
      "Epoch 2 - Test Loss: 0.3683, Accuracy: 0.8306, Precision: 0.8660, Recall: 0.8306, F1 Score: 0.8179\n"
     ]
    },
    {
     "name": "stderr",
     "output_type": "stream",
     "text": [
      "100%|██████████████████████████████████████████████████████████████████████████████████| 67/67 [00:02<00:00, 31.07it/s]\n",
      "100%|██████████████████████████████████████████████████████████████████████████████████| 19/19 [00:00<00:00, 33.58it/s]\n"
     ]
    },
    {
     "name": "stdout",
     "output_type": "stream",
     "text": [
      "Epoch 3 - Test Loss: 0.3917, Accuracy: 0.8372, Precision: 0.8838, Recall: 0.8372, F1 Score: 0.8118\n"
     ]
    },
    {
     "name": "stderr",
     "output_type": "stream",
     "text": [
      "100%|██████████████████████████████████████████████████████████████████████████████████| 67/67 [00:02<00:00, 31.71it/s]\n",
      "100%|██████████████████████████████████████████████████████████████████████████████████| 19/19 [00:00<00:00, 31.81it/s]\n"
     ]
    },
    {
     "name": "stdout",
     "output_type": "stream",
     "text": [
      "Epoch 4 - Test Loss: 0.4343, Accuracy: 0.8439, Precision: 0.8924, Recall: 0.8439, F1 Score: 0.8278\n"
     ]
    },
    {
     "name": "stderr",
     "output_type": "stream",
     "text": [
      "100%|██████████████████████████████████████████████████████████████████████████████████| 67/67 [00:02<00:00, 29.43it/s]\n",
      "100%|██████████████████████████████████████████████████████████████████████████████████| 19/19 [00:00<00:00, 36.41it/s]"
     ]
    },
    {
     "name": "stdout",
     "output_type": "stream",
     "text": [
      "Epoch 5 - Test Loss: 0.6008, Accuracy: 0.7741, Precision: 0.7888, Recall: 0.7741, F1 Score: 0.7557\n"
     ]
    },
    {
     "name": "stderr",
     "output_type": "stream",
     "text": [
      "\n"
     ]
    }
   ],
   "source": [
    "for epoch in range(5):\n",
    "    train_loss, train_accuracy, train_precision, train_recall, train_f1 = train(training_loader)\n",
    "    print(f\"Epoch {epoch+1} - Train Loss: {train_loss:.4f}, Accuracy: {train_accuracy:.4f}, Precision: {train_precision:.4f}, Recall: {train_recall:.4f}, F1 Score: {train_f1:.4f}\")\n",
    "for epoch in range(5):\n",
    "    train_loss, train_accuracy,train_embeddings,train_labels, train_precision, train_recall, train_f1 = test(training_loader)\n",
    "\n",
    "    test_loss,test_accuracy,test_embeddings,test_labels, test_precision, test_recall, test_f1 = test(Testing_loader)\n",
    "    print(f\"Epoch {epoch+1} - Test Loss: {test_loss:.4f}, Accuracy: {test_accuracy:.4f}, Precision: {test_precision:.4f}, Recall: {test_recall:.4f}, F1 Score: {test_f1:.4f}\")\n"
   ]
  },
  {
   "cell_type": "code",
   "execution_count": 84,
   "id": "3761accb",
   "metadata": {},
   "outputs": [
    {
     "name": "stdout",
     "output_type": "stream",
     "text": [
      "Training classifier...\n",
      "Testing with SVC\n",
      "Accuracy with SVC: 0.59265\n",
      "Testing with RandomForestClassifier\n",
      "Accuracy with RandomForestClassifier: 0.61562\n",
      "Testing with GradientBoostingClassifier\n",
      "Accuracy with GradientBoostingClassifier: 0.59112\n",
      "Testing with KNeighborsClassifier\n",
      "Accuracy with KNeighborsClassifier: 0.61103\n",
      "Epoch 1, SVC: Val Accuracy: 0.59265\n",
      "Epoch 1, RandomForestClassifier: Val Accuracy: 0.61562\n",
      "Epoch 1, GradientBoostingClassifier: Val Accuracy: 0.59112\n",
      "Epoch 1, KNeighborsClassifier: Val Accuracy: 0.61103\n",
      "Performing clustering tasks...\n",
      "Testing with KMeans\n",
      "Number of clusters for KMeans: 10\n",
      "KMeans - Silhouette Score: 0.44917, Adjusted Rand Index: 0.39110\n",
      "Testing with DBSCAN\n",
      "Number of clusters for DBSCAN: 1\n",
      "DBSCAN - Cannot compute scores, only one cluster found.\n",
      "Testing with AgglomerativeClustering\n",
      "Number of clusters for AgglomerativeClustering: 10\n",
      "AgglomerativeClustering - Silhouette Score: 0.43071, Adjusted Rand Index: 0.40576\n",
      "Epoch 1, KMeans: Silhouette Score: 0.44917, Adjusted Rand Index: 0.39110\n",
      "Epoch 1, AgglomerativeClustering: Silhouette Score: 0.43071, Adjusted Rand Index: 0.40576\n",
      "Training classifier...\n",
      "Testing with SVC\n",
      "Accuracy with SVC: 0.59265\n",
      "Testing with RandomForestClassifier\n",
      "Accuracy with RandomForestClassifier: 0.61868\n",
      "Testing with GradientBoostingClassifier\n",
      "Accuracy with GradientBoostingClassifier: 0.59418\n",
      "Testing with KNeighborsClassifier\n",
      "Accuracy with KNeighborsClassifier: 0.61103\n",
      "Epoch 2, SVC: Val Accuracy: 0.59265\n",
      "Epoch 2, RandomForestClassifier: Val Accuracy: 0.61868\n",
      "Epoch 2, GradientBoostingClassifier: Val Accuracy: 0.59418\n",
      "Epoch 2, KNeighborsClassifier: Val Accuracy: 0.61103\n",
      "Performing clustering tasks...\n",
      "Testing with KMeans\n",
      "Number of clusters for KMeans: 10\n",
      "KMeans - Silhouette Score: 0.44975, Adjusted Rand Index: 0.40706\n",
      "Testing with DBSCAN\n",
      "Number of clusters for DBSCAN: 1\n",
      "DBSCAN - Cannot compute scores, only one cluster found.\n",
      "Testing with AgglomerativeClustering\n",
      "Number of clusters for AgglomerativeClustering: 10\n",
      "AgglomerativeClustering - Silhouette Score: 0.43071, Adjusted Rand Index: 0.40576\n",
      "Epoch 2, KMeans: Silhouette Score: 0.44975, Adjusted Rand Index: 0.40706\n",
      "Epoch 2, AgglomerativeClustering: Silhouette Score: 0.43071, Adjusted Rand Index: 0.40576\n",
      "Training classifier...\n",
      "Testing with SVC\n",
      "Accuracy with SVC: 0.59265\n",
      "Testing with RandomForestClassifier\n",
      "Accuracy with RandomForestClassifier: 0.60796\n",
      "Testing with GradientBoostingClassifier\n",
      "Accuracy with GradientBoostingClassifier: 0.58652\n",
      "Testing with KNeighborsClassifier\n",
      "Accuracy with KNeighborsClassifier: 0.61103\n",
      "Epoch 3, SVC: Val Accuracy: 0.59265\n",
      "Epoch 3, RandomForestClassifier: Val Accuracy: 0.60796\n",
      "Epoch 3, GradientBoostingClassifier: Val Accuracy: 0.58652\n",
      "Epoch 3, KNeighborsClassifier: Val Accuracy: 0.61103\n",
      "Performing clustering tasks...\n",
      "Testing with KMeans\n",
      "Number of clusters for KMeans: 10\n",
      "KMeans - Silhouette Score: 0.45773, Adjusted Rand Index: 0.42449\n",
      "Testing with DBSCAN\n",
      "Number of clusters for DBSCAN: 1\n",
      "DBSCAN - Cannot compute scores, only one cluster found.\n",
      "Testing with AgglomerativeClustering\n",
      "Number of clusters for AgglomerativeClustering: 10\n",
      "AgglomerativeClustering - Silhouette Score: 0.43071, Adjusted Rand Index: 0.40576\n",
      "Epoch 3, KMeans: Silhouette Score: 0.45773, Adjusted Rand Index: 0.42449\n",
      "Epoch 3, AgglomerativeClustering: Silhouette Score: 0.43071, Adjusted Rand Index: 0.40576\n",
      "Training classifier...\n",
      "Testing with SVC\n",
      "Accuracy with SVC: 0.59265\n",
      "Testing with RandomForestClassifier\n",
      "Accuracy with RandomForestClassifier: 0.60490\n",
      "Testing with GradientBoostingClassifier\n",
      "Accuracy with GradientBoostingClassifier: 0.58959\n",
      "Testing with KNeighborsClassifier\n",
      "Accuracy with KNeighborsClassifier: 0.61103\n",
      "Epoch 4, SVC: Val Accuracy: 0.59265\n",
      "Epoch 4, RandomForestClassifier: Val Accuracy: 0.60490\n",
      "Epoch 4, GradientBoostingClassifier: Val Accuracy: 0.58959\n",
      "Epoch 4, KNeighborsClassifier: Val Accuracy: 0.61103\n",
      "Performing clustering tasks...\n",
      "Testing with KMeans\n",
      "Number of clusters for KMeans: 10\n",
      "KMeans - Silhouette Score: 0.45832, Adjusted Rand Index: 0.42665\n",
      "Testing with DBSCAN\n",
      "Number of clusters for DBSCAN: 1\n",
      "DBSCAN - Cannot compute scores, only one cluster found.\n",
      "Testing with AgglomerativeClustering\n",
      "Number of clusters for AgglomerativeClustering: 10\n",
      "AgglomerativeClustering - Silhouette Score: 0.43071, Adjusted Rand Index: 0.40576\n",
      "Epoch 4, KMeans: Silhouette Score: 0.45832, Adjusted Rand Index: 0.42665\n",
      "Epoch 4, AgglomerativeClustering: Silhouette Score: 0.43071, Adjusted Rand Index: 0.40576\n"
     ]
    }
   ],
   "source": [
    "import numpy as np\n",
    "from sklearn.metrics import accuracy_score, silhouette_score, adjusted_rand_score\n",
    "from sklearn.svm import SVC\n",
    "from sklearn.ensemble import RandomForestClassifier, GradientBoostingClassifier\n",
    "from sklearn.neighbors import KNeighborsClassifier\n",
    "from sklearn.cluster import KMeans, DBSCAN, AgglomerativeClustering\n",
    "\n",
    "def classifier():\n",
    "    print(\"Training classifier...\")\n",
    "\n",
    "    classifiers = [\n",
    "        SVC(C=1.0, kernel='rbf'),\n",
    "        RandomForestClassifier(n_estimators=100),\n",
    "        GradientBoostingClassifier(n_estimators=100),\n",
    "        KNeighborsClassifier(n_neighbors=5)\n",
    "    ]\n",
    "\n",
    "    # Convert embeddings to numpy arrays and ensure they are 2D\n",
    "    X_train = np.array([np.ravel(embedding) for embedding in train_embeddings])\n",
    "    X_test = np.array([np.ravel(embedding) for embedding in test_embeddings])\n",
    "    Y_train = np.array(train_labels)\n",
    "    Y_test = np.array(test_labels)\n",
    "    \n",
    "    accuracies = {}\n",
    "\n",
    "    for clf in classifiers:\n",
    "        print(f\"Testing with {clf.__class__.__name__}\")\n",
    "        clf.fit(X_train, Y_train)\n",
    "        y_pred = clf.predict(X_test)\n",
    "        accuracy = accuracy_score(Y_test, y_pred)\n",
    "        accuracies[clf.__class__.__name__] = accuracy\n",
    "        print(f\"Accuracy with {clf.__class__.__name__}: {accuracy:.5f}\")\n",
    "\n",
    "    return accuracies\n",
    "\n",
    "def clustering():\n",
    "    print(\"Performing clustering tasks...\")\n",
    "\n",
    "    # Convert embeddings to numpy arrays and ensure they are 2D\n",
    "    X_train = np.array([np.ravel(embedding) for embedding in train_embeddings])\n",
    "    X_test = np.array([np.ravel(embedding) for embedding in test_embeddings])\n",
    "    Y_train = np.array(train_labels)\n",
    "    Y_test = np.array(test_labels)\n",
    "\n",
    "    clustering_algorithms = [\n",
    "        KMeans(n_clusters=len(np.unique(Y_train))),\n",
    "        DBSCAN(eps=0.5, min_samples=5),\n",
    "        AgglomerativeClustering(n_clusters=len(np.unique(Y_train)))\n",
    "    ]\n",
    "    \n",
    "    cluster_scores = {}\n",
    "\n",
    "    for algo in clustering_algorithms:\n",
    "        print(f\"Testing with {algo.__class__.__name__}\")\n",
    "        algo.fit(X_train)\n",
    "        if hasattr(algo, 'labels_'):\n",
    "            cluster_labels = algo.labels_\n",
    "        else:\n",
    "            raise NotImplementedError(f\"{algo.__class__.__name__} does not have a labels_ attribute\")\n",
    "\n",
    "        # Check number of unique clusters\n",
    "        unique_clusters = np.unique(cluster_labels)\n",
    "        num_clusters = len(unique_clusters)\n",
    "\n",
    "        # Print number of clusters\n",
    "        print(f\"Number of clusters for {algo.__class__.__name__}: {num_clusters}\")\n",
    "\n",
    "        if num_clusters > 1:\n",
    "            silhouette_avg = silhouette_score(X_train, cluster_labels)\n",
    "            rand_score = adjusted_rand_score(Y_train, cluster_labels)\n",
    "            cluster_scores[algo.__class__.__name__] = {\n",
    "                'Silhouette Score': silhouette_avg,\n",
    "                'Adjusted Rand Index': rand_score\n",
    "            }\n",
    "            print(f\"{algo.__class__.__name__} - Silhouette Score: {silhouette_avg:.5f}, Adjusted Rand Index: {rand_score:.5f}\")\n",
    "        else:\n",
    "            print(f\"{algo.__class__.__name__} - Cannot compute scores, only one cluster found.\")\n",
    "\n",
    "    return cluster_scores\n",
    "\n",
    "# Example loop for training over multiple epochs\n",
    "for epoch in range(1, 5):\n",
    "    val_accuracies = classifier()\n",
    "    for clf_name, acc in val_accuracies.items():\n",
    "        print(f'Epoch {epoch}, {clf_name}: Val Accuracy: {acc:.5f}')\n",
    "\n",
    "    cluster_results = clustering()\n",
    "    for algo_name, scores in cluster_results.items():\n",
    "        print(f'Epoch {epoch}, {algo_name}: Silhouette Score: {scores[\"Silhouette Score\"]:.5f}, Adjusted Rand Index: {scores[\"Adjusted Rand Index\"]:.5f}')\n"
   ]
  },
  {
   "cell_type": "code",
   "execution_count": null,
   "id": "c4ef1eed",
   "metadata": {},
   "outputs": [],
   "source": []
  },
  {
   "cell_type": "code",
   "execution_count": null,
   "id": "353efd05",
   "metadata": {},
   "outputs": [],
   "source": []
  }
 ],
 "metadata": {
  "kernelspec": {
   "display_name": "Python 3 (ipykernel)",
   "language": "python",
   "name": "python3"
  },
  "language_info": {
   "codemirror_mode": {
    "name": "ipython",
    "version": 3
   },
   "file_extension": ".py",
   "mimetype": "text/x-python",
   "name": "python",
   "nbconvert_exporter": "python",
   "pygments_lexer": "ipython3",
   "version": "3.7.9"
  }
 },
 "nbformat": 4,
 "nbformat_minor": 5
}
